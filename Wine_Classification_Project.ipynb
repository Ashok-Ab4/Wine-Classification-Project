{
 "cells": [
  {
   "cell_type": "markdown",
   "metadata": {},
   "source": [
    "### Part 1: Building the model"
   ]
  },
  {
   "cell_type": "code",
   "execution_count": 1,
   "metadata": {},
   "outputs": [
    {
     "data": {
      "text/html": [
       "<table style=\"border: 2px solid white;\">\n",
       "<tr>\n",
       "<td style=\"vertical-align: top; border: 0px solid white\">\n",
       "<h3 style=\"text-align: left;\">Client</h3>\n",
       "<ul style=\"text-align: left; list-style: none; margin: 0; padding: 0;\">\n",
       "  <li><b>Scheduler: </b>tcp://127.0.0.1:41089</li>\n",
       "  <li><b>Dashboard: </b><a href='http://127.0.0.1:8787/status' target='_blank'>http://127.0.0.1:8787/status</a></li>\n",
       "</ul>\n",
       "</td>\n",
       "<td style=\"vertical-align: top; border: 0px solid white\">\n",
       "<h3 style=\"text-align: left;\">Cluster</h3>\n",
       "<ul style=\"text-align: left; list-style:none; margin: 0; padding: 0;\">\n",
       "  <li><b>Workers: </b>4</li>\n",
       "  <li><b>Cores: </b>4</li>\n",
       "  <li><b>Memory: </b>16.62 GB</li>\n",
       "</ul>\n",
       "</td>\n",
       "</tr>\n",
       "</table>"
      ],
      "text/plain": [
       "<Client: 'tcp://127.0.0.1:41089' processes=4 threads=4, memory=16.62 GB>"
      ]
     },
     "execution_count": 1,
     "metadata": {},
     "output_type": "execute_result"
    }
   ],
   "source": [
    "from dask.distributed import Client\n",
    "\n",
    "client = Client(\"tcp://127.0.0.1:41089\")\n",
    "client"
   ]
  },
  {
   "cell_type": "code",
   "execution_count": 5,
   "metadata": {},
   "outputs": [],
   "source": [
    "import numpy as np\n",
    "import pandas as pd\n",
    "from cytoolz import *\n",
    "from tqdm.auto import tqdm\n",
    "\n",
    "tqdm.pandas()"
   ]
  },
  {
   "cell_type": "code",
   "execution_count": 6,
   "metadata": {},
   "outputs": [],
   "source": [
    "train = pd.read_parquet(\n",
    "    \"s3://ling583/wine-train.parquet\", storage_options={\"anon\": True}\n",
    ")\n",
    "test = pd.read_parquet(\n",
    "    \"s3://ling583/wine-test.parquet\", storage_options={\"anon\": True}\n",
    ")"
   ]
  },
  {
   "cell_type": "code",
   "execution_count": 7,
   "metadata": {},
   "outputs": [
    {
     "data": {
      "text/plain": [
       "Pinot Noir            38471\n",
       "Cabernet Sauvignon    30234\n",
       "Chardonnay            19443\n",
       "Syrah                 13704\n",
       "Riesling               9683\n",
       "Zinfandel              8327\n",
       "Merlot                 5522\n",
       "Sauvignon Blanc        5113\n",
       "Name: wine_variant, dtype: int64"
      ]
     },
     "execution_count": 7,
     "metadata": {},
     "output_type": "execute_result"
    }
   ],
   "source": [
    "train['wine_variant'].value_counts()"
   ]
  },
  {
   "cell_type": "code",
   "execution_count": 8,
   "metadata": {},
   "outputs": [],
   "source": [
    "import spacy\n",
    "\n",
    "nlp = spacy.load(\n",
    "    \"en_core_web_sm\",\n",
    "    exclude=[\"tagger\", \"parser\", \"ner\", \"lemmatizer\", \"attribute_ruler\"],\n",
    ")\n",
    "\n",
    "\n",
    "def tokenize(text):\n",
    "    doc = nlp.tokenizer(text)\n",
    "    return [t.norm_ for t in doc if t.is_alpha]"
   ]
  },
  {
   "cell_type": "code",
   "execution_count": 9,
   "metadata": {},
   "outputs": [
    {
     "data": {
      "application/vnd.jupyter.widget-view+json": {
       "model_id": "92cf89a8a1f34dc29050a2331b705c9b",
       "version_major": 2,
       "version_minor": 0
      },
      "text/plain": [
       "  0%|          | 0/130497 [00:00<?, ?it/s]"
      ]
     },
     "metadata": {},
     "output_type": "display_data"
    },
    {
     "data": {
      "application/vnd.jupyter.widget-view+json": {
       "model_id": "df2f417b95b04e2986c8925f9d089010",
       "version_major": 2,
       "version_minor": 0
      },
      "text/plain": [
       "  0%|          | 0/32625 [00:00<?, ?it/s]"
      ]
     },
     "metadata": {},
     "output_type": "display_data"
    }
   ],
   "source": [
    "import multiprocessing as mp\n",
    "with mp.Pool() as p:\n",
    "    train[\"tokens\"] = pd.Series(p.imap(tokenize, tqdm(train[\"review_text\"]), chunksize=100))\n",
    "    test[\"tokens\"] = pd.Series(p.imap(tokenize, tqdm(test[\"review_text\"]), chunksize=100))"
   ]
  },
  {
   "cell_type": "code",
   "execution_count": 7,
   "metadata": {},
   "outputs": [
    {
     "data": {
      "text/html": [
       "<div>\n",
       "<style scoped>\n",
       "    .dataframe tbody tr th:only-of-type {\n",
       "        vertical-align: middle;\n",
       "    }\n",
       "\n",
       "    .dataframe tbody tr th {\n",
       "        vertical-align: top;\n",
       "    }\n",
       "\n",
       "    .dataframe thead th {\n",
       "        text-align: right;\n",
       "    }\n",
       "</style>\n",
       "<table border=\"1\" class=\"dataframe\">\n",
       "  <thead>\n",
       "    <tr style=\"text-align: right;\">\n",
       "      <th></th>\n",
       "      <th>review_text</th>\n",
       "      <th>wine_variant</th>\n",
       "      <th>tokens</th>\n",
       "    </tr>\n",
       "  </thead>\n",
       "  <tbody>\n",
       "    <tr>\n",
       "      <th>0</th>\n",
       "      <td>Rich smoky dark cherry nose very intense fruit...</td>\n",
       "      <td>Pinot Noir</td>\n",
       "      <td>[rich, smoky, dark, cherry, nose, very, intens...</td>\n",
       "    </tr>\n",
       "    <tr>\n",
       "      <th>1</th>\n",
       "      <td>Had this at Corton Restaurant in NYC. First of...</td>\n",
       "      <td>Syrah</td>\n",
       "      <td>[had, this, at, corton, restaurant, in, nyc, f...</td>\n",
       "    </tr>\n",
       "    <tr>\n",
       "      <th>2</th>\n",
       "      <td>Nose is very tart, with a layer of sweet fruit...</td>\n",
       "      <td>Pinot Noir</td>\n",
       "      <td>[nose, is, very, tart, with, a, layer, of, swe...</td>\n",
       "    </tr>\n",
       "    <tr>\n",
       "      <th>3</th>\n",
       "      <td>Beautiful golden color. Discrete perfumed nose...</td>\n",
       "      <td>Chardonnay</td>\n",
       "      <td>[beautiful, golden, color, discrete, perfumed,...</td>\n",
       "    </tr>\n",
       "    <tr>\n",
       "      <th>4</th>\n",
       "      <td>Please take the time to decant: you will not b...</td>\n",
       "      <td>Pinot Noir</td>\n",
       "      <td>[please, take, the, time, to, decant, you, wil...</td>\n",
       "    </tr>\n",
       "  </tbody>\n",
       "</table>\n",
       "</div>"
      ],
      "text/plain": [
       "                                         review_text wine_variant  \\\n",
       "0  Rich smoky dark cherry nose very intense fruit...   Pinot Noir   \n",
       "1  Had this at Corton Restaurant in NYC. First of...        Syrah   \n",
       "2  Nose is very tart, with a layer of sweet fruit...   Pinot Noir   \n",
       "3  Beautiful golden color. Discrete perfumed nose...   Chardonnay   \n",
       "4  Please take the time to decant: you will not b...   Pinot Noir   \n",
       "\n",
       "                                              tokens  \n",
       "0  [rich, smoky, dark, cherry, nose, very, intens...  \n",
       "1  [had, this, at, corton, restaurant, in, nyc, f...  \n",
       "2  [nose, is, very, tart, with, a, layer, of, swe...  \n",
       "3  [beautiful, golden, color, discrete, perfumed,...  \n",
       "4  [please, take, the, time, to, decant, you, wil...  "
      ]
     },
     "execution_count": 7,
     "metadata": {},
     "output_type": "execute_result"
    }
   ],
   "source": [
    "train.head()"
   ]
  },
  {
   "cell_type": "code",
   "execution_count": 8,
   "metadata": {},
   "outputs": [
    {
     "data": {
      "text/html": [
       "<div>\n",
       "<style scoped>\n",
       "    .dataframe tbody tr th:only-of-type {\n",
       "        vertical-align: middle;\n",
       "    }\n",
       "\n",
       "    .dataframe tbody tr th {\n",
       "        vertical-align: top;\n",
       "    }\n",
       "\n",
       "    .dataframe thead th {\n",
       "        text-align: right;\n",
       "    }\n",
       "</style>\n",
       "<table border=\"1\" class=\"dataframe\">\n",
       "  <thead>\n",
       "    <tr style=\"text-align: right;\">\n",
       "      <th></th>\n",
       "      <th>review_text</th>\n",
       "      <th>wine_variant</th>\n",
       "      <th>tokens</th>\n",
       "    </tr>\n",
       "  </thead>\n",
       "  <tbody>\n",
       "    <tr>\n",
       "      <th>0</th>\n",
       "      <td>hmmm. i have mixed emotions about this wine. o...</td>\n",
       "      <td>Chardonnay</td>\n",
       "      <td>[hmmm, i, have, mixed, emotions, about, this, ...</td>\n",
       "    </tr>\n",
       "    <tr>\n",
       "      <th>1</th>\n",
       "      <td>You can find several dozen SB Syrahs that have...</td>\n",
       "      <td>Syrah</td>\n",
       "      <td>[you, can, find, several, dozen, sb, syrahs, t...</td>\n",
       "    </tr>\n",
       "    <tr>\n",
       "      <th>2</th>\n",
       "      <td>It has a nice even red finish and remote cherr...</td>\n",
       "      <td>Pinot Noir</td>\n",
       "      <td>[it, has, a, nice, even, red, finish, and, rem...</td>\n",
       "    </tr>\n",
       "    <tr>\n",
       "      <th>3</th>\n",
       "      <td>WIML91  Tasted October 6, 2009.  Opened and se...</td>\n",
       "      <td>Pinot Noir</td>\n",
       "      <td>[tasted, october, opened, and, served, immedia...</td>\n",
       "    </tr>\n",
       "    <tr>\n",
       "      <th>4</th>\n",
       "      <td>My last bottle with the super bowl. Sipped wit...</td>\n",
       "      <td>Zinfandel</td>\n",
       "      <td>[my, last, bottle, with, the, super, bowl, sip...</td>\n",
       "    </tr>\n",
       "  </tbody>\n",
       "</table>\n",
       "</div>"
      ],
      "text/plain": [
       "                                         review_text wine_variant  \\\n",
       "0  hmmm. i have mixed emotions about this wine. o...   Chardonnay   \n",
       "1  You can find several dozen SB Syrahs that have...        Syrah   \n",
       "2  It has a nice even red finish and remote cherr...   Pinot Noir   \n",
       "3  WIML91  Tasted October 6, 2009.  Opened and se...   Pinot Noir   \n",
       "4  My last bottle with the super bowl. Sipped wit...    Zinfandel   \n",
       "\n",
       "                                              tokens  \n",
       "0  [hmmm, i, have, mixed, emotions, about, this, ...  \n",
       "1  [you, can, find, several, dozen, sb, syrahs, t...  \n",
       "2  [it, has, a, nice, even, red, finish, and, rem...  \n",
       "3  [tasted, october, opened, and, served, immedia...  \n",
       "4  [my, last, bottle, with, the, super, bowl, sip...  "
      ]
     },
     "execution_count": 8,
     "metadata": {},
     "output_type": "execute_result"
    }
   ],
   "source": [
    "test.head()"
   ]
  },
  {
   "cell_type": "markdown",
   "metadata": {},
   "source": [
    "#### SGD Classifier"
   ]
  },
  {
   "cell_type": "code",
   "execution_count": 30,
   "metadata": {},
   "outputs": [],
   "source": [
    "from sklearn.feature_extraction.text import CountVectorizer\n",
    "from sklearn.metrics import classification_report\n",
    "from sklearn.linear_model import SGDClassifier\n",
    "from sklearn.pipeline import make_pipeline\n",
    "from sklearn.feature_extraction.text import TfidfTransformer"
   ]
  },
  {
   "cell_type": "code",
   "execution_count": 20,
   "metadata": {},
   "outputs": [
    {
     "name": "stdout",
     "output_type": "stream",
     "text": [
      "                    precision    recall  f1-score   support\n",
      "\n",
      "Cabernet Sauvignon       0.69      0.82      0.75      7558\n",
      "        Chardonnay       0.81      0.86      0.83      4861\n",
      "            Merlot       0.84      0.34      0.48      1381\n",
      "        Pinot Noir       0.78      0.85      0.82      9618\n",
      "          Riesling       0.84      0.76      0.80      2421\n",
      "   Sauvignon Blanc       0.78      0.68      0.73      1278\n",
      "             Syrah       0.74      0.54      0.63      3426\n",
      "         Zinfandel       0.74      0.57      0.65      2082\n",
      "\n",
      "          accuracy                           0.76     32625\n",
      "         macro avg       0.78      0.68      0.71     32625\n",
      "      weighted avg       0.76      0.76      0.75     32625\n",
      "\n"
     ]
    }
   ],
   "source": [
    "sgd = make_pipeline(CountVectorizer(analyzer=identity), SGDClassifier())\n",
    "sgd.fit(train[\"tokens\"], train[\"wine_variant\"])\n",
    "predicted = sgd.predict(test[\"tokens\"])\n",
    "print(classification_report(test[\"wine_variant\"], predicted))\n",
    "mlflow.set_experiment(\"Project2_Models\")\n",
    "log_test(sgd, test[\"wine_variant\"], predicted)"
   ]
  },
  {
   "cell_type": "markdown",
   "metadata": {},
   "source": [
    "#### Lets try some other baseline models to see which performs best before beginning the hyper parameter tuning"
   ]
  },
  {
   "cell_type": "markdown",
   "metadata": {},
   "source": [
    "#### Ngram model"
   ]
  },
  {
   "cell_type": "code",
   "execution_count": 10,
   "metadata": {},
   "outputs": [],
   "source": [
    "from nltk import bigrams\n",
    "def unibigrams(toks):\n",
    "    return [(tok,) for tok in toks] + list(bigrams(toks))"
   ]
  },
  {
   "cell_type": "code",
   "execution_count": 21,
   "metadata": {},
   "outputs": [
    {
     "name": "stdout",
     "output_type": "stream",
     "text": [
      "                    precision    recall  f1-score   support\n",
      "\n",
      "Cabernet Sauvignon       0.68      0.79      0.73      7558\n",
      "        Chardonnay       0.81      0.84      0.82      4861\n",
      "            Merlot       0.72      0.36      0.48      1381\n",
      "        Pinot Noir       0.78      0.84      0.81      9618\n",
      "          Riesling       0.81      0.78      0.79      2421\n",
      "   Sauvignon Blanc       0.84      0.63      0.72      1278\n",
      "             Syrah       0.66      0.56      0.61      3426\n",
      "         Zinfandel       0.77      0.54      0.64      2082\n",
      "\n",
      "          accuracy                           0.75     32625\n",
      "         macro avg       0.76      0.67      0.70     32625\n",
      "      weighted avg       0.75      0.75      0.74     32625\n",
      "\n"
     ]
    }
   ],
   "source": [
    "sgd = make_pipeline(CountVectorizer(analyzer=unibigrams), SGDClassifier())\n",
    "sgd.fit(train[\"tokens\"], train[\"wine_variant\"])\n",
    "predicted = sgd.predict(test[\"tokens\"])\n",
    "print(classification_report(test[\"wine_variant\"], predicted))\n",
    "mlflow.set_experiment(\"Project2_Models\")\n",
    "log_test(sgd, test[\"wine_variant\"], predicted)"
   ]
  },
  {
   "cell_type": "markdown",
   "metadata": {},
   "source": [
    "#### Baseline SGD does better. Lets try a passive aggressive classifier"
   ]
  },
  {
   "cell_type": "code",
   "execution_count": 22,
   "metadata": {},
   "outputs": [
    {
     "name": "stdout",
     "output_type": "stream",
     "text": [
      "                    precision    recall  f1-score   support\n",
      "\n",
      "Cabernet Sauvignon       0.71      0.70      0.70      7558\n",
      "        Chardonnay       0.80      0.78      0.79      4861\n",
      "            Merlot       0.41      0.36      0.39      1381\n",
      "        Pinot Noir       0.73      0.83      0.78      9618\n",
      "          Riesling       0.71      0.74      0.73      2421\n",
      "   Sauvignon Blanc       0.68      0.63      0.65      1278\n",
      "             Syrah       0.62      0.54      0.57      3426\n",
      "         Zinfandel       0.66      0.53      0.59      2082\n",
      "\n",
      "          accuracy                           0.71     32625\n",
      "         macro avg       0.67      0.64      0.65     32625\n",
      "      weighted avg       0.70      0.71      0.70     32625\n",
      "\n"
     ]
    }
   ],
   "source": [
    "from sklearn.linear_model import PassiveAggressiveClassifier\n",
    "pac = make_pipeline(CountVectorizer(analyzer=identity),\n",
    "                    TfidfTransformer(),\n",
    "                   PassiveAggressiveClassifier(max_iter=10000, random_state=0,tol=1e-5))\n",
    "pac.fit(train[\"tokens\"], train[\"wine_variant\"])\n",
    "predicted = pac.predict(test[\"tokens\"])\n",
    "print(classification_report(test[\"wine_variant\"], predicted))\n",
    "mlflow.set_experiment(\"Project2_Models\")\n",
    "log_test(pac, test[\"wine_variant\"], predicted)"
   ]
  },
  {
   "cell_type": "markdown",
   "metadata": {},
   "source": [
    "#### Random Forest"
   ]
  },
  {
   "cell_type": "code",
   "execution_count": 23,
   "metadata": {},
   "outputs": [],
   "source": [
    "from sklearn.ensemble import RandomForestClassifier"
   ]
  },
  {
   "cell_type": "code",
   "execution_count": 24,
   "metadata": {},
   "outputs": [
    {
     "name": "stdout",
     "output_type": "stream",
     "text": [
      "                    precision    recall  f1-score   support\n",
      "\n",
      "Cabernet Sauvignon       0.62      0.82      0.71      7558\n",
      "        Chardonnay       0.76      0.87      0.81      4861\n",
      "            Merlot       0.94      0.20      0.33      1381\n",
      "        Pinot Noir       0.69      0.87      0.77      9618\n",
      "          Riesling       0.88      0.62      0.73      2421\n",
      "   Sauvignon Blanc       0.92      0.51      0.66      1278\n",
      "             Syrah       0.90      0.36      0.51      3426\n",
      "         Zinfandel       0.96      0.38      0.55      2082\n",
      "\n",
      "          accuracy                           0.71     32625\n",
      "         macro avg       0.83      0.58      0.63     32625\n",
      "      weighted avg       0.76      0.71      0.69     32625\n",
      "\n"
     ]
    }
   ],
   "source": [
    "rf = make_pipeline(CountVectorizer(analyzer=identity),\n",
    "                   RandomForestClassifier(random_state=0))\n",
    "rf.fit(train[\"tokens\"], train[\"wine_variant\"])\n",
    "predicted = rf.predict(test[\"tokens\"])\n",
    "print(classification_report(test[\"wine_variant\"], predicted))\n",
    "mlflow.set_experiment(\"Project2_Models\")\n",
    "log_test(rf, test[\"wine_variant\"], predicted)"
   ]
  },
  {
   "cell_type": "markdown",
   "metadata": {},
   "source": [
    "#### The baseline SGD seems to perform the best out of all these models. Lets continue with that for the hyperparameter tuning. We will use Dask instead of regular grid search to optimize performance"
   ]
  },
  {
   "cell_type": "code",
   "execution_count": 31,
   "metadata": {},
   "outputs": [],
   "source": [
    "import mlflow\n",
    "from dask_ml.model_selection import RandomizedSearchCV\n",
    "from logger import log_search,log_test\n",
    "from scipy.stats.distributions import loguniform, randint, uniform\n",
    "from warnings import simplefilter\n",
    "\n",
    "simplefilter(action=\"ignore\", category=FutureWarning)"
   ]
  },
  {
   "cell_type": "code",
   "execution_count": 25,
   "metadata": {},
   "outputs": [
    {
     "name": "stdout",
     "output_type": "stream",
     "text": [
      "INFO: 'Project2_Wine' does not exist. Creating a new experiment\n"
     ]
    }
   ],
   "source": [
    "mlflow.set_experiment(\"Project2_Wine\")\n",
    "sgd = make_pipeline(\n",
    "    CountVectorizer(analyzer=identity), TfidfTransformer(), SGDClassifier()\n",
    ")"
   ]
  },
  {
   "cell_type": "code",
   "execution_count": 28,
   "metadata": {},
   "outputs": [
    {
     "name": "stdout",
     "output_type": "stream",
     "text": [
      "CPU times: user 10.9 s, sys: 1.09 s, total: 12 s\n",
      "Wall time: 6min 31s\n"
     ]
    }
   ],
   "source": [
    "%%time\n",
    "\n",
    "search = RandomizedSearchCV(\n",
    "    sgd,\n",
    "    {\n",
    "        \"countvectorizer__min_df\": randint(1, 20),\n",
    "        \"countvectorizer__max_df\": uniform(0.5, 0.5),\n",
    "        \"tfidftransformer__use_idf\": [True, False],\n",
    "        \"sgdclassifier__alpha\": loguniform(1e-6, 1e-2),\n",
    "    },\n",
    "    n_iter=50,\n",
    "    scoring=\"f1_macro\",\n",
    ")\n",
    "search.fit(train[\"tokens\"], train[\"wine_variant\"])\n",
    "log_search(search)"
   ]
  },
  {
   "cell_type": "code",
   "execution_count": 29,
   "metadata": {},
   "outputs": [
    {
     "name": "stdout",
     "output_type": "stream",
     "text": [
      "CPU times: user 12.2 s, sys: 1.25 s, total: 13.5 s\n",
      "Wall time: 20min 24s\n"
     ]
    }
   ],
   "source": [
    "%%time\n",
    "\n",
    "search = RandomizedSearchCV(\n",
    "    sgd,\n",
    "    {\n",
    "        \"countvectorizer__min_df\": [10],\n",
    "        \"countvectorizer__max_df\": [0.7],\n",
    "        \"tfidftransformer__use_idf\": [True],\n",
    "        \"sgdclassifier__alpha\": loguniform(1e-10, 1e-5),\n",
    "    },\n",
    "    n_iter=50,\n",
    "    scoring=\"f1_macro\",\n",
    ")\n",
    "search.fit(train[\"tokens\"], train[\"wine_variant\"])\n",
    "log_search(search)"
   ]
  },
  {
   "cell_type": "markdown",
   "metadata": {},
   "source": [
    "#### Optimised model"
   ]
  },
  {
   "cell_type": "code",
   "execution_count": 12,
   "metadata": {},
   "outputs": [
    {
     "name": "stdout",
     "output_type": "stream",
     "text": [
      "                    precision    recall  f1-score   support\n",
      "\n",
      "Cabernet Sauvignon       0.71      0.80      0.75      7558\n",
      "        Chardonnay       0.81      0.86      0.83      4861\n",
      "            Merlot       0.77      0.34      0.47      1381\n",
      "        Pinot Noir       0.77      0.87      0.82      9618\n",
      "          Riesling       0.79      0.80      0.79      2421\n",
      "   Sauvignon Blanc       0.83      0.66      0.73      1278\n",
      "             Syrah       0.70      0.56      0.62      3426\n",
      "         Zinfandel       0.83      0.52      0.64      2082\n",
      "\n",
      "          accuracy                           0.76     32625\n",
      "         macro avg       0.78      0.68      0.71     32625\n",
      "      weighted avg       0.76      0.76      0.75     32625\n",
      "\n"
     ]
    }
   ],
   "source": [
    "sgd = make_pipeline(\n",
    "    CountVectorizer(analyzer=identity, min_df=10, max_df=0.7),TfidfTransformer(use_idf=True), SGDClassifier(alpha=7.5e-6)\n",
    ")\n",
    "sgd.fit(train[\"tokens\"], train[\"wine_variant\"])\n",
    "predicted = sgd.predict(test[\"tokens\"])\n",
    "print(classification_report(test[\"wine_variant\"], predicted))\n",
    "mlflow.set_experiment(\"Project2_Models\")\n",
    "log_test(sgd, test[\"wine_variant\"], predicted)"
   ]
  },
  {
   "cell_type": "markdown",
   "metadata": {},
   "source": [
    "#### Analysing the model performance"
   ]
  },
  {
   "cell_type": "code",
   "execution_count": 27,
   "metadata": {},
   "outputs": [],
   "source": [
    "import pandas as pd\n",
    "x = pd.read_csv('runs (1).csv')"
   ]
  },
  {
   "cell_type": "code",
   "execution_count": 40,
   "metadata": {},
   "outputs": [
    {
     "data": {
      "text/html": [
       "<div>\n",
       "<style scoped>\n",
       "    .dataframe tbody tr th:only-of-type {\n",
       "        vertical-align: middle;\n",
       "    }\n",
       "\n",
       "    .dataframe tbody tr th {\n",
       "        vertical-align: top;\n",
       "    }\n",
       "\n",
       "    .dataframe thead th {\n",
       "        text-align: right;\n",
       "    }\n",
       "</style>\n",
       "<table border=\"1\" class=\"dataframe\">\n",
       "  <thead>\n",
       "    <tr style=\"text-align: right;\">\n",
       "      <th></th>\n",
       "      <th>Name</th>\n",
       "      <th>f1</th>\n",
       "      <th>precision</th>\n",
       "      <th>recall</th>\n",
       "    </tr>\n",
       "  </thead>\n",
       "  <tbody>\n",
       "    <tr>\n",
       "      <th>0</th>\n",
       "      <td>Baseline SGD</td>\n",
       "      <td>0.708855</td>\n",
       "      <td>0.780704</td>\n",
       "      <td>0.675583</td>\n",
       "    </tr>\n",
       "    <tr>\n",
       "      <th>1</th>\n",
       "      <td>Optimised SGD</td>\n",
       "      <td>0.708842</td>\n",
       "      <td>0.776675</td>\n",
       "      <td>0.677408</td>\n",
       "    </tr>\n",
       "    <tr>\n",
       "      <th>2</th>\n",
       "      <td>Ngram</td>\n",
       "      <td>0.699236</td>\n",
       "      <td>0.756546</td>\n",
       "      <td>0.668048</td>\n",
       "    </tr>\n",
       "    <tr>\n",
       "      <th>3</th>\n",
       "      <td>Passive Aggressive Classifier</td>\n",
       "      <td>0.650416</td>\n",
       "      <td>0.666001</td>\n",
       "      <td>0.638948</td>\n",
       "    </tr>\n",
       "    <tr>\n",
       "      <th>4</th>\n",
       "      <td>Random Forest</td>\n",
       "      <td>0.631692</td>\n",
       "      <td>0.832433</td>\n",
       "      <td>0.578518</td>\n",
       "    </tr>\n",
       "  </tbody>\n",
       "</table>\n",
       "</div>"
      ],
      "text/plain": [
       "                            Name        f1  precision    recall\n",
       "0                   Baseline SGD  0.708855   0.780704  0.675583\n",
       "1                  Optimised SGD  0.708842   0.776675  0.677408\n",
       "2                          Ngram  0.699236   0.756546  0.668048\n",
       "3  Passive Aggressive Classifier  0.650416   0.666001  0.638948\n",
       "4                  Random Forest  0.631692   0.832433  0.578518"
      ]
     },
     "execution_count": 40,
     "metadata": {},
     "output_type": "execute_result"
    }
   ],
   "source": [
    "x[['Name','f1','precision','recall']].sort_values(by='f1',ascending=False).reset_index().drop('index',axis=1)"
   ]
  },
  {
   "cell_type": "markdown",
   "metadata": {},
   "source": [
    "#### Marginal improvements to performance overall after hyperparameter tuning, but not much different from the baseline model. SGD Classifier works best overall compared to the other models that were attempted with an F1 score of 0.71. Hyperparameter tuning did not do much for the model performance. The performances are shown in the classification report and the model comparison reports above. We will continue with the SGD model and do further analyses."
   ]
  },
  {
   "cell_type": "markdown",
   "metadata": {},
   "source": [
    "### Pickling the model\n"
   ]
  },
  {
   "cell_type": "code",
   "execution_count": 13,
   "metadata": {},
   "outputs": [],
   "source": [
    "import cloudpickle"
   ]
  },
  {
   "cell_type": "code",
   "execution_count": 15,
   "metadata": {},
   "outputs": [
    {
     "name": "stdout",
     "output_type": "stream",
     "text": [
      "                    precision    recall  f1-score   support\n",
      "\n",
      "Cabernet Sauvignon       0.69      0.83      0.75      7558\n",
      "        Chardonnay       0.82      0.86      0.84      4861\n",
      "            Merlot       0.78      0.34      0.47      1381\n",
      "        Pinot Noir       0.78      0.86      0.82      9618\n",
      "          Riesling       0.80      0.79      0.80      2421\n",
      "   Sauvignon Blanc       0.82      0.66      0.73      1278\n",
      "             Syrah       0.73      0.55      0.63      3426\n",
      "         Zinfandel       0.83      0.53      0.64      2082\n",
      "\n",
      "          accuracy                           0.76     32625\n",
      "         macro avg       0.78      0.68      0.71     32625\n",
      "      weighted avg       0.77      0.76      0.75     32625\n",
      "\n"
     ]
    }
   ],
   "source": [
    "sgd = make_pipeline(\n",
    "    CountVectorizer(preprocessor=identity, tokenizer=tokenize, min_df=10, max_df=0.7),TfidfTransformer(use_idf=True), SGDClassifier(alpha=7.5e-6)\n",
    ")\n",
    "sgd.fit(train[\"review_text\"], train[\"wine_variant\"])\n",
    "predicted = sgd.predict(test[\"review_text\"])\n",
    "print(classification_report(test[\"wine_variant\"], predicted))"
   ]
  },
  {
   "cell_type": "code",
   "execution_count": 16,
   "metadata": {},
   "outputs": [],
   "source": [
    "cloudpickle.dump(sgd, open(\"sgd.model\", \"wb\"))"
   ]
  },
  {
   "cell_type": "markdown",
   "metadata": {},
   "source": [
    "### Part 2: Testing model performance by analysing coefficients and words used for label assignments\n",
    "#### Lets check it out for a specific example first in LIME"
   ]
  },
  {
   "cell_type": "code",
   "execution_count": 41,
   "metadata": {},
   "outputs": [],
   "source": [
    "from lime.lime_text import LimeTextExplainer\n",
    "import matplotlib.pyplot as plt\n",
    "explainer = LimeTextExplainer(class_names=sgd.named_steps['sgdclassifier'].classes_)"
   ]
  },
  {
   "cell_type": "code",
   "execution_count": 43,
   "metadata": {},
   "outputs": [
    {
     "data": {
      "text/plain": [
       "('Pinot Noir',\n",
       " 'this to me is a very pleasant, somewhat innocuous Pinot. Beautiful clear cherry colour, intense typical pinot nose of strawberry and red cherry, a little candied, and not giving up any pinot \"funk\". Palate is medium bodied for a pinot, lots of sweet cherry and strawberry fruit, maybe a little raspberry, nice acidity and low tannins, but lacking much complexity or \"wow\". Solid.')"
      ]
     },
     "execution_count": 43,
     "metadata": {},
     "output_type": "execute_result"
    }
   ],
   "source": [
    "test[\"wine_variant\"].iloc[30003], test[\"review_text\"].iloc[30003]"
   ]
  },
  {
   "cell_type": "code",
   "execution_count": 45,
   "metadata": {},
   "outputs": [],
   "source": [
    "exp = explainer.explain_instance(\n",
    "    test[\"review_text\"].loc[30003], sgd.decision_function, num_features=15, labels=[0,1,2,3,4,5,6,7]\n",
    ")"
   ]
  },
  {
   "cell_type": "code",
   "execution_count": 46,
   "metadata": {
    "scrolled": false
   },
   "outputs": [
    {
     "data": {
      "text/plain": [
       "[]"
      ]
     },
     "execution_count": 46,
     "metadata": {},
     "output_type": "execute_result"
    },
    {
     "data": {
      "image/png": "[encoded data removed]",
      "text/plain": [
       "<Figure size 432x288 with 1 Axes>"
      ]
     },
     "metadata": {
      "needs_background": "light"
     },
     "output_type": "display_data"
    },
    {
     "data": {
      "image/png": "[encoded data removed]",
      "text/plain": [
       "<Figure size 432x288 with 1 Axes>"
      ]
     },
     "metadata": {
      "needs_background": "light"
     },
     "output_type": "display_data"
    },
    {
     "data": {
      "image/png": "[encoded data removed]",
      "text/plain": [
       "<Figure size 432x288 with 1 Axes>"
      ]
     },
     "metadata": {
      "needs_background": "light"
     },
     "output_type": "display_data"
    },
    {
     "data": {
      "image/png": "[encoded data removed]",
      "text/plain": [
       "<Figure size 432x288 with 1 Axes>"
      ]
     },
     "metadata": {
      "needs_background": "light"
     },
     "output_type": "display_data"
    },
    {
     "data": {
      "image/png": "[encoded data removed]",
      "text/plain": [
       "<Figure size 432x288 with 1 Axes>"
      ]
     },
     "metadata": {
      "needs_background": "light"
     },
     "output_type": "display_data"
    },
    {
     "data": {
      "image/png": "[encoded data removed]",
      "text/plain": [
       "<Figure size 432x288 with 1 Axes>"
      ]
     },
     "metadata": {
      "needs_background": "light"
     },
     "output_type": "display_data"
    },
    {
     "data": {
      "image/png": "[encoded data removed]",
      "text/plain": [
       "<Figure size 432x288 with 1 Axes>"
      ]
     },
     "metadata": {
      "needs_background": "light"
     },
     "output_type": "display_data"
    },
    {
     "data": {
      "image/png": "[encoded data removed]",
      "text/plain": [
       "<Figure size 432x288 with 1 Axes>"
      ]
     },
     "metadata": {
      "needs_background": "light"
     },
     "output_type": "display_data"
    }
   ],
   "source": [
    "for i in range(0, 8):\n",
    "    exp.as_pyplot_figure(i)\n",
    "plt.plot()"
   ]
  },
  {
   "cell_type": "markdown",
   "metadata": {},
   "source": [
    "#### As seen above the presence of the word 'Pinot' in the description plays a huge factor in the model classifying the wine variant as a pinot noir. While the name of the wine being in the description can be a pretty big indicator that the label will also be the same, it is worth questioning because the model might get confused if two wine names are named in the same review or another wine used as a reference for this wine, for example someone discribing one wine to be similar in taste to another wine in the same review. Words like cherry and strawberry on the other hand might be more generalizable and more suited to reviews of all sorts. Lets check the cofficients for all labels."
   ]
  },
  {
   "cell_type": "code",
   "execution_count": 47,
   "metadata": {},
   "outputs": [
    {
     "data": {
      "text/plain": [
       "(array(['Cabernet Sauvignon', 'Chardonnay', 'Merlot', 'Pinot Noir',\n",
       "        'Riesling', 'Sauvignon Blanc', 'Syrah', 'Zinfandel'], dtype='<U18'),\n",
       " array([[ 2.97578637e-01, -1.45279913e-01,  8.97755032e-01, ...,\n",
       "         -6.47085302e-02, -1.28099691e-03,  2.86392109e-01],\n",
       "        [-5.31335766e-01, -2.25297300e-01, -3.16597776e-02, ...,\n",
       "         -3.57139486e-02, -3.95729368e-01,  1.49969461e+00],\n",
       "        [-9.72018198e-02, -9.48195067e-02, -2.86685518e-02, ...,\n",
       "          6.26727805e-02, -1.56789668e-01,  0.00000000e+00],\n",
       "        ...,\n",
       "        [-3.25287370e-01, -1.01980678e-01,  4.31078139e-01, ...,\n",
       "          1.21714101e-01, -7.07264757e-02,  0.00000000e+00],\n",
       "        [-4.78026751e-01,  4.35286931e-02, -2.34511555e-01, ...,\n",
       "          3.32861295e-01,  2.64498408e-01, -1.99392414e-01],\n",
       "        [-2.52458667e-01, -4.77642780e-02,  0.00000000e+00, ...,\n",
       "         -3.31006208e-01, -1.70508559e-01,  0.00000000e+00]]))"
      ]
     },
     "execution_count": 47,
     "metadata": {},
     "output_type": "execute_result"
    }
   ],
   "source": [
    "coef = sgd.named_steps['sgdclassifier'].coef_\n",
    "labels, coef"
   ]
  },
  {
   "cell_type": "code",
   "execution_count": 48,
   "metadata": {},
   "outputs": [
    {
     "data": {
      "text/plain": [
       "(8, 9972)"
      ]
     },
     "execution_count": 48,
     "metadata": {},
     "output_type": "execute_result"
    }
   ],
   "source": [
    "coef.shape"
   ]
  },
  {
   "cell_type": "code",
   "execution_count": 49,
   "metadata": {},
   "outputs": [],
   "source": [
    "vocab = sgd.named_steps['countvectorizer'].get_feature_names()"
   ]
  },
  {
   "cell_type": "code",
   "execution_count": 50,
   "metadata": {},
   "outputs": [
    {
     "data": {
      "text/plain": [
       "1249"
      ]
     },
     "execution_count": 50,
     "metadata": {},
     "output_type": "execute_result"
    }
   ],
   "source": [
    "coef[0,:].argmax()"
   ]
  },
  {
   "cell_type": "code",
   "execution_count": 51,
   "metadata": {},
   "outputs": [
    {
     "data": {
      "text/plain": [
       "13.80794566153349"
      ]
     },
     "execution_count": 51,
     "metadata": {},
     "output_type": "execute_result"
    }
   ],
   "source": [
    "coef[0,1249]"
   ]
  },
  {
   "cell_type": "code",
   "execution_count": 52,
   "metadata": {},
   "outputs": [
    {
     "data": {
      "text/plain": [
       "'cab'"
      ]
     },
     "execution_count": 52,
     "metadata": {},
     "output_type": "execute_result"
    }
   ],
   "source": [
    "vocab[1249]"
   ]
  },
  {
   "cell_type": "code",
   "execution_count": 53,
   "metadata": {
    "scrolled": false
   },
   "outputs": [
    {
     "name": "stdout",
     "output_type": "stream",
     "text": [
      "Cabernet Sauvignon\n",
      "  cab             13.808\n",
      "  cabernet        12.686\n",
      "  cabs             9.611\n",
      "  cassis           8.272\n",
      "  napa             5.734\n",
      "  bordeaux         5.509\n",
      "  currant          5.377\n",
      "  bell             4.811\n",
      "  tannins          4.783\n",
      "  cs               4.708\n",
      "  chard           -4.489\n",
      "  zins            -4.542\n",
      "  pinots          -4.781\n",
      "  merlots         -5.037\n",
      "  chardonnay      -5.132\n",
      "  burgundy        -5.387\n",
      "  zinfandel       -5.395\n",
      "  zin             -8.068\n",
      "  syrah           -9.257\n",
      "  pinot           -10.056\n",
      "\n",
      "Chardonnay\n",
      "  chardonnay      12.144\n",
      "  chard           10.155\n",
      "  chablis          9.142\n",
      "  chards           7.201\n",
      "  butter           6.858\n",
      "  buttery          6.802\n",
      "  chardonnays      6.627\n",
      "  meursault        6.297\n",
      "  premox           5.491\n",
      "  butterscotch     5.160\n",
      "  dark            -4.732\n",
      "  cab             -5.037\n",
      "  cherries        -5.059\n",
      "  red             -5.182\n",
      "  sb              -5.354\n",
      "  pinot           -5.666\n",
      "  sauvignon       -6.122\n",
      "  petrol          -6.482\n",
      "  riesling        -6.744\n",
      "  tannins         -7.170\n",
      "\n",
      "Merlot\n",
      "  merlot          12.594\n",
      "  merlots          8.139\n",
      "  havens           2.958\n",
      "  paloma           2.237\n",
      "  januik           1.072\n",
      "  pomerol          1.025\n",
      "  li               0.885\n",
      "  tradition        0.856\n",
      "  cuvaison         0.825\n",
      "  bank             0.802\n",
      "  zinfandel       -1.074\n",
      "  petit           -1.097\n",
      "  noir            -1.101\n",
      "  zin             -1.137\n",
      "  cab             -1.305\n",
      "  cabs            -1.540\n",
      "  verdot          -1.677\n",
      "  syrah           -1.752\n",
      "  pinot           -2.392\n",
      "  sauvignon       -3.235\n",
      "\n",
      "Pinot Noir\n",
      "  pinot           18.117\n",
      "  pinots           9.954\n",
      "  pn               8.942\n",
      "  burgundy         6.955\n",
      "  cherry           6.302\n",
      "  cola             6.123\n",
      "  vosne            5.964\n",
      "  strawberry       5.884\n",
      "  strawberries     5.581\n",
      "  volnay           5.576\n",
      "  lemon           -5.162\n",
      "  zinfandel       -5.192\n",
      "  cassis          -5.405\n",
      "  white           -5.426\n",
      "  yellow          -5.551\n",
      "  chardonnay      -6.633\n",
      "  cabernet        -7.057\n",
      "  syrah           -7.334\n",
      "  merlot          -7.708\n",
      "  cab             -8.939\n",
      "\n",
      "Riesling\n",
      "  riesling        11.210\n",
      "  petrol           8.676\n",
      "  rieslings        7.728\n",
      "  kabinett         6.428\n",
      "  auslese          5.976\n",
      "  reisling         5.647\n",
      "  mosel            5.425\n",
      "  spatlese         5.415\n",
      "  kerosene         5.333\n",
      "  diesel           5.209\n",
      "  buttery         -3.468\n",
      "  dark            -3.478\n",
      "  burgundy        -3.574\n",
      "  vanilla         -3.711\n",
      "  pinot           -3.912\n",
      "  cherry          -4.002\n",
      "  sb              -4.466\n",
      "  chablis         -4.659\n",
      "  chardonnay      -5.482\n",
      "  tannins         -5.516\n",
      "\n",
      "Sauvignon Blanc\n",
      "  sb               8.447\n",
      "  sauvignon        6.513\n",
      "  sancerre         6.224\n",
      "  gooseberry       5.426\n",
      "  grass            5.209\n",
      "  sbs              4.607\n",
      "  grassiness       4.480\n",
      "  grassy           4.411\n",
      "  gooseberries     4.317\n",
      "  sauv             4.220\n",
      "  petrol          -2.334\n",
      "  chablis         -2.456\n",
      "  cherry          -2.647\n",
      "  strawberry      -2.647\n",
      "  red             -2.679\n",
      "  pinot           -3.283\n",
      "  riesling        -3.565\n",
      "  cab             -3.600\n",
      "  chard           -3.746\n",
      "  chardonnay      -4.034\n",
      "\n",
      "Syrah\n",
      "  syrah           13.750\n",
      "  syrahs           9.050\n",
      "  rhone            6.806\n",
      "  hermitage        6.600\n",
      "  rotie            6.136\n",
      "  bacon            5.859\n",
      "  pax              5.807\n",
      "  chave            5.800\n",
      "  cornas           5.791\n",
      "  cayuse           5.259\n",
      "  cabs            -2.728\n",
      "  zins            -2.733\n",
      "  pn              -2.799\n",
      "  burgundy        -2.801\n",
      "  pinots          -3.137\n",
      "  zinfandel       -3.876\n",
      "  merlot          -4.053\n",
      "  cabernet        -4.775\n",
      "  zin             -5.237\n",
      "  cab             -5.831\n",
      "\n",
      "Zinfandel\n",
      "  zin             13.704\n",
      "  zinfandel        9.971\n",
      "  zins             9.916\n",
      "  turley           8.228\n",
      "  zinfandels       6.311\n",
      "  turleys          5.617\n",
      "  rosenblum        4.059\n",
      "  zinberry         4.020\n",
      "  seghesio         3.441\n",
      "  ravenswood       2.984\n",
      "  bell            -1.039\n",
      "  cabs            -1.152\n",
      "  chardonnay      -1.291\n",
      "  pn              -1.417\n",
      "  pinots          -1.848\n",
      "  syrahs          -1.997\n",
      "  merlot          -2.059\n",
      "  cabernet        -2.173\n",
      "  syrah           -2.961\n",
      "  cab             -3.605\n",
      "\n"
     ]
    }
   ],
   "source": [
    "ranked = np.argsort(coef, axis=1)\n",
    "for i, label in enumerate(labels):\n",
    "    print(label)\n",
    "    for j in concat([range(-1, -11, -1), range(10, 0, -1)]):\n",
    "        print(f'  {vocab[ranked[i,j]]:15s} {coef[i, ranked[i,j]]:6.3f}')\n",
    "    print()"
   ]
  },
  {
   "cell_type": "markdown",
   "metadata": {},
   "source": [
    "#### The same pattern seems to continue for all the other wines as well. The words that the model seems to be most sensitive to seems to be the name of the wine themselves. But such occurences(two wine names in the same review) may be rare given that the model performs decently well and the training data was a decent enough sample size. There are some winery names that slip in to be some major coefficients such as Napa, paloma which seem to indicate that in the training data most of the data about those specific wines seem to be mentioned alongside those wineries, which may not always be the case with all reviews. This indicates minor signs of overfitting. Some aspects the model does well with is words that describe the taste or texture of the wines also rank very high on the coefficient scale. Words such as citrus, bacon, grassy, buttery which are good coefficients to generalize on in case the model were to be used with a different set of data.\n",
    "#### Additionally, most models seem to very highly regard short forms of the wine names to be very high indicators of the review being about wine. Some of these short forms are problematic for obvious reasons, with tokens such as cab when used in the context of describing a taxi ride could be confused for a wine review by the model. But in the context of this particular dataset it makes sense for reviews to use short forms while describing the wines as well. \n",
    "#### Despite a couple of concerns, most of the coefficients seem to be in line with what is expected from reviews for those specific wine variants, so the model performs decently well."
   ]
  },
  {
   "cell_type": "markdown",
   "metadata": {},
   "source": [
    "### Part 3: Improving performance by using margin calculations and filtering the test set "
   ]
  },
  {
   "cell_type": "code",
   "execution_count": 9,
   "metadata": {},
   "outputs": [],
   "source": [
    "labels = sgd.named_steps['sgdclassifier'].classes_\n",
    "scores = sgd.decision_function(test[\"review_text\"])"
   ]
  },
  {
   "cell_type": "code",
   "execution_count": 10,
   "metadata": {},
   "outputs": [
    {
     "data": {
      "text/plain": [
       "'Chardonnay'"
      ]
     },
     "execution_count": 10,
     "metadata": {},
     "output_type": "execute_result"
    }
   ],
   "source": [
    "test['wine_variant'].iloc[0]"
   ]
  },
  {
   "cell_type": "code",
   "execution_count": 11,
   "metadata": {},
   "outputs": [
    {
     "data": {
      "text/plain": [
       "\"hmmm. i have mixed emotions about this wine. on the one hand, i like it's minerality, but on the other, i think the acid is a bit whacked. on the one hand, it's a nice combo of fruit, but it has a funky finish. in the end, i wouldn't purchase it again.\""
      ]
     },
     "execution_count": 11,
     "metadata": {},
     "output_type": "execute_result"
    }
   ],
   "source": [
    "test['review_text'].iloc[0]"
   ]
  },
  {
   "cell_type": "code",
   "execution_count": 12,
   "metadata": {},
   "outputs": [],
   "source": [
    "highest = scores.max(axis=1)"
   ]
  },
  {
   "cell_type": "code",
   "execution_count": 13,
   "metadata": {},
   "outputs": [
    {
     "data": {
      "text/plain": [
       "-0.8504778119942855"
      ]
     },
     "execution_count": 13,
     "metadata": {},
     "output_type": "execute_result"
    }
   ],
   "source": [
    "highest[0]"
   ]
  },
  {
   "cell_type": "code",
   "execution_count": 14,
   "metadata": {},
   "outputs": [
    {
     "data": {
      "text/plain": [
       "30003"
      ]
     },
     "execution_count": 14,
     "metadata": {},
     "output_type": "execute_result"
    }
   ],
   "source": [
    "highest.argmax()"
   ]
  },
  {
   "cell_type": "code",
   "execution_count": 15,
   "metadata": {},
   "outputs": [
    {
     "data": {
      "text/plain": [
       "array([-6.80943017, -9.02221505, -2.24981192, 11.79412965, -5.27551711,\n",
       "       -5.08102424, -5.92429665, -3.15777521])"
      ]
     },
     "execution_count": 15,
     "metadata": {},
     "output_type": "execute_result"
    }
   ],
   "source": [
    "scores[30003]"
   ]
  },
  {
   "cell_type": "code",
   "execution_count": 16,
   "metadata": {},
   "outputs": [
    {
     "data": {
      "text/plain": [
       "'Pinot Noir'"
      ]
     },
     "execution_count": 16,
     "metadata": {},
     "output_type": "execute_result"
    }
   ],
   "source": [
    "test.wine_variant[30003]"
   ]
  },
  {
   "cell_type": "code",
   "execution_count": 17,
   "metadata": {},
   "outputs": [
    {
     "data": {
      "text/plain": [
       "'this to me is a very pleasant, somewhat innocuous Pinot. Beautiful clear cherry colour, intense typical pinot nose of strawberry and red cherry, a little candied, and not giving up any pinot \"funk\". Palate is medium bodied for a pinot, lots of sweet cherry and strawberry fruit, maybe a little raspberry, nice acidity and low tannins, but lacking much complexity or \"wow\". Solid.'"
      ]
     },
     "execution_count": 17,
     "metadata": {},
     "output_type": "execute_result"
    }
   ],
   "source": [
    "test.review_text[30003]"
   ]
  },
  {
   "cell_type": "code",
   "execution_count": 18,
   "metadata": {},
   "outputs": [
    {
     "data": {
      "text/plain": [
       "24723"
      ]
     },
     "execution_count": 18,
     "metadata": {},
     "output_type": "execute_result"
    }
   ],
   "source": [
    "highest.argmin()"
   ]
  },
  {
   "cell_type": "code",
   "execution_count": 19,
   "metadata": {},
   "outputs": [
    {
     "data": {
      "text/plain": [
       "array([-4.00824839, -1.53439666, -1.51802082, -1.79124066, -2.45305552,\n",
       "       -1.84514483, -2.43364501, -1.8799481 ])"
      ]
     },
     "execution_count": 19,
     "metadata": {},
     "output_type": "execute_result"
    }
   ],
   "source": [
    "scores[24723]"
   ]
  },
  {
   "cell_type": "code",
   "execution_count": 20,
   "metadata": {},
   "outputs": [
    {
     "data": {
      "text/plain": [
       "'Pinot Noir'"
      ]
     },
     "execution_count": 20,
     "metadata": {},
     "output_type": "execute_result"
    }
   ],
   "source": [
    "test.wine_variant[24723]"
   ]
  },
  {
   "cell_type": "code",
   "execution_count": 21,
   "metadata": {},
   "outputs": [
    {
     "data": {
      "text/plain": [
       "'Rich leesy nose with straw, honey comb and strawberry. Bright melon and berry flavors with touches of earth and mineral. Breathy full finish. Very nice.'"
      ]
     },
     "execution_count": 21,
     "metadata": {},
     "output_type": "execute_result"
    }
   ],
   "source": [
    "test.review_text[24723]"
   ]
  },
  {
   "cell_type": "code",
   "execution_count": 22,
   "metadata": {},
   "outputs": [
    {
     "data": {
      "text/plain": [
       "array([[-1.62715477, -1.52145244, -1.24471161, -1.21932544, -1.16005582,\n",
       "        -1.14180697, -1.12499989, -0.85047781],\n",
       "       [-3.09240487, -2.75063856, -2.12102672, -2.09704197, -1.81297054,\n",
       "        -1.33279473,  0.81793806,  1.01696489],\n",
       "       [-2.25323543, -2.21613028, -2.12673723, -1.97713361, -1.51623427,\n",
       "        -1.19661955, -1.15963817,  1.09263736],\n",
       "       [-5.58919754, -4.68261884, -2.85799809, -1.92379267, -1.70622177,\n",
       "        -1.23564225, -1.09158106,  1.66241506],\n",
       "       [-4.85853427, -4.28153488, -3.33305314, -2.43838837, -2.17736738,\n",
       "        -1.99627285, -1.57083007,  4.01173665]])"
      ]
     },
     "execution_count": 22,
     "metadata": {},
     "output_type": "execute_result"
    }
   ],
   "source": [
    "scores.sort(axis=1)\n",
    "scores[0:5,:]"
   ]
  },
  {
   "cell_type": "code",
   "execution_count": 25,
   "metadata": {},
   "outputs": [],
   "source": [
    "margin = scores[:,7]-scores[:,6]"
   ]
  },
  {
   "cell_type": "code",
   "execution_count": 26,
   "metadata": {},
   "outputs": [
    {
     "data": {
      "text/plain": [
       "(14.04394157158293, 0.00011321057346547203)"
      ]
     },
     "execution_count": 26,
     "metadata": {},
     "output_type": "execute_result"
    }
   ],
   "source": [
    "margin.max(), margin.min()"
   ]
  },
  {
   "cell_type": "code",
   "execution_count": 38,
   "metadata": {},
   "outputs": [
    {
     "name": "stdout",
     "output_type": "stream",
     "text": [
      "                    precision    recall  f1-score   support\n",
      "\n",
      "Cabernet Sauvignon       0.69      0.83      0.75      7558\n",
      "        Chardonnay       0.82      0.86      0.84      4861\n",
      "            Merlot       0.78      0.34      0.47      1381\n",
      "        Pinot Noir       0.78      0.86      0.82      9618\n",
      "          Riesling       0.80      0.79      0.80      2421\n",
      "   Sauvignon Blanc       0.82      0.66      0.73      1278\n",
      "             Syrah       0.73      0.55      0.63      3426\n",
      "         Zinfandel       0.83      0.53      0.64      2082\n",
      "\n",
      "          accuracy                           0.76     32625\n",
      "         macro avg       0.78      0.68      0.71     32625\n",
      "      weighted avg       0.77      0.76      0.75     32625\n",
      "\n"
     ]
    }
   ],
   "source": [
    "print(classification_report(test[\"wine_variant\"], predicted))"
   ]
  },
  {
   "cell_type": "code",
   "execution_count": 51,
   "metadata": {},
   "outputs": [
    {
     "name": "stdout",
     "output_type": "stream",
     "text": [
      "                    precision    recall  f1-score   support\n",
      "\n",
      "Cabernet Sauvignon       0.82      0.93      0.87      5345\n",
      "        Chardonnay       0.92      0.95      0.93      3784\n",
      "            Merlot       0.92      0.50      0.65       872\n",
      "        Pinot Noir       0.89      0.95      0.92      7550\n",
      "          Riesling       0.92      0.90      0.91      1771\n",
      "   Sauvignon Blanc       0.94      0.81      0.87       884\n",
      "             Syrah       0.91      0.69      0.78      2058\n",
      "         Zinfandel       0.95      0.74      0.83      1282\n",
      "\n",
      "          accuracy                           0.89     23546\n",
      "         macro avg       0.91      0.81      0.85     23546\n",
      "      weighted avg       0.89      0.89      0.88     23546\n",
      "\n"
     ]
    }
   ],
   "source": [
    "print(classification_report(test[\"wine_variant\"][margin > 0.82], predicted[margin > 0.82]))"
   ]
  },
  {
   "cell_type": "code",
   "execution_count": 53,
   "metadata": {},
   "outputs": [
    {
     "data": {
      "text/plain": [
       "9079"
      ]
     },
     "execution_count": 53,
     "metadata": {},
     "output_type": "execute_result"
    }
   ],
   "source": [
    "32625-23546"
   ]
  },
  {
   "cell_type": "markdown",
   "metadata": {},
   "source": [
    "#### As seen above the margin is first calculated by subtracting the 2 highest decision function values for the labels. The model is then restricted to only those samples that score higher than a set threshold value for the margin, based on the required F1 score. Here, for an F1 of 0.85 that value was found to be 0.82 for the margin and it achieved the F1 score by excluding 9079 values from the test set. "
   ]
  },
  {
   "cell_type": "markdown",
   "metadata": {},
   "source": [
    "### Part 4: Using confusion matrices to determine model shortcomings"
   ]
  },
  {
   "cell_type": "code",
   "execution_count": 3,
   "metadata": {},
   "outputs": [],
   "source": [
    "import matplotlib.pyplot as plt\n",
    "from sklearn.metrics import classification_report, f1_score, plot_confusion_matrix"
   ]
  },
  {
   "cell_type": "code",
   "execution_count": 10,
   "metadata": {},
   "outputs": [],
   "source": [
    "predicted = sgd.predict(test['review_text'])"
   ]
  },
  {
   "cell_type": "code",
   "execution_count": 11,
   "metadata": {},
   "outputs": [
    {
     "data": {
      "text/plain": [
       "<sklearn.metrics._plot.confusion_matrix.ConfusionMatrixDisplay at 0x7f9f5ac32b20>"
      ]
     },
     "execution_count": 11,
     "metadata": {},
     "output_type": "execute_result"
    },
    {
     "data": {
      "image/png": "[encoded data removed]",
      "text/plain": [
       "<Figure size 576x576 with 2 Axes>"
      ]
     },
     "metadata": {
      "needs_background": "light"
     },
     "output_type": "display_data"
    }
   ],
   "source": [
    "fig, ax = plt.subplots(figsize=(8, 8))\n",
    "plot_confusion_matrix(sgd, test['review_text'], test['wine_variant'],xticks_rotation=-90, normalize='true', ax=ax)"
   ]
  },
  {
   "cell_type": "markdown",
   "metadata": {},
   "source": [
    "#### From the model we can see that most models perform either good or average on the F1 scores, except the Zinfandel and the syrah labels as well as the merlot and Cabernet Sauvignon(Not a bad performer itself but often confused for other labels). Further, they are often confused for eachother as is visible from the 42% of Merlots that are labelled as cabernets and the 1.0% of cabernets that are labelled as Merlot. Also, Syrah and Zinfandel are bad performers themselves and are also confused for eachother 1.8% and 7.2% respectively. First, lets try and reducing the number of labels to 6, removing the Merlot and cabernet labels and replacing them with the Cabernet Sauvignon/Merlot label and removing the Syrah and Zinfandel labels and replacing them with the Syrah/Zinfandel label."
   ]
  },
  {
   "cell_type": "code",
   "execution_count": 60,
   "metadata": {},
   "outputs": [
    {
     "data": {
      "text/html": [
       "<div>\n",
       "<style scoped>\n",
       "    .dataframe tbody tr th:only-of-type {\n",
       "        vertical-align: middle;\n",
       "    }\n",
       "\n",
       "    .dataframe tbody tr th {\n",
       "        vertical-align: top;\n",
       "    }\n",
       "\n",
       "    .dataframe thead th {\n",
       "        text-align: right;\n",
       "    }\n",
       "</style>\n",
       "<table border=\"1\" class=\"dataframe\">\n",
       "  <thead>\n",
       "    <tr style=\"text-align: right;\">\n",
       "      <th></th>\n",
       "      <th>review_text</th>\n",
       "      <th>wine_variant</th>\n",
       "      <th>tokens</th>\n",
       "    </tr>\n",
       "  </thead>\n",
       "  <tbody>\n",
       "    <tr>\n",
       "      <th>0</th>\n",
       "      <td>Rich smoky dark cherry nose very intense fruit...</td>\n",
       "      <td>Pinot Noir</td>\n",
       "      <td>[rich, smoky, dark, cherry, nose, very, intens...</td>\n",
       "    </tr>\n",
       "    <tr>\n",
       "      <th>1</th>\n",
       "      <td>Had this at Corton Restaurant in NYC. First of...</td>\n",
       "      <td>Syrah</td>\n",
       "      <td>[had, this, at, corton, restaurant, in, nyc, f...</td>\n",
       "    </tr>\n",
       "    <tr>\n",
       "      <th>2</th>\n",
       "      <td>Nose is very tart, with a layer of sweet fruit...</td>\n",
       "      <td>Pinot Noir</td>\n",
       "      <td>[nose, is, very, tart, with, a, layer, of, swe...</td>\n",
       "    </tr>\n",
       "    <tr>\n",
       "      <th>3</th>\n",
       "      <td>Beautiful golden color. Discrete perfumed nose...</td>\n",
       "      <td>Chardonnay</td>\n",
       "      <td>[beautiful, golden, color, discrete, perfumed,...</td>\n",
       "    </tr>\n",
       "    <tr>\n",
       "      <th>4</th>\n",
       "      <td>Please take the time to decant: you will not b...</td>\n",
       "      <td>Pinot Noir</td>\n",
       "      <td>[please, take, the, time, to, decant, you, wil...</td>\n",
       "    </tr>\n",
       "    <tr>\n",
       "      <th>...</th>\n",
       "      <td>...</td>\n",
       "      <td>...</td>\n",
       "      <td>...</td>\n",
       "    </tr>\n",
       "    <tr>\n",
       "      <th>130492</th>\n",
       "      <td>Brought this out at a dinner and it was quite ...</td>\n",
       "      <td>Zinfandel</td>\n",
       "      <td>[brought, this, out, at, a, dinner, and, it, w...</td>\n",
       "    </tr>\n",
       "    <tr>\n",
       "      <th>130493</th>\n",
       "      <td>Nothing bad to say except that this is so ordi...</td>\n",
       "      <td>Pinot Noir</td>\n",
       "      <td>[nothing, bad, to, say, except, that, this, is...</td>\n",
       "    </tr>\n",
       "    <tr>\n",
       "      <th>130494</th>\n",
       "      <td>Good wine. Dark fruit and buttery oak aromas o...</td>\n",
       "      <td>Cabernet Sauvignon</td>\n",
       "      <td>[good, wine, dark, fruit, and, buttery, oak, a...</td>\n",
       "    </tr>\n",
       "    <tr>\n",
       "      <th>130495</th>\n",
       "      <td>AP #8. Medium-deep gold. Mature nose of petrol...</td>\n",
       "      <td>Riesling</td>\n",
       "      <td>[ap, medium, deep, gold, mature, nose, of, pet...</td>\n",
       "    </tr>\n",
       "    <tr>\n",
       "      <th>130496</th>\n",
       "      <td>A great nose of lemon, green apple and mineral...</td>\n",
       "      <td>Chardonnay</td>\n",
       "      <td>[a, great, nose, of, lemon, green, apple, and,...</td>\n",
       "    </tr>\n",
       "  </tbody>\n",
       "</table>\n",
       "<p>130497 rows × 3 columns</p>\n",
       "</div>"
      ],
      "text/plain": [
       "                                              review_text        wine_variant  \\\n",
       "0       Rich smoky dark cherry nose very intense fruit...          Pinot Noir   \n",
       "1       Had this at Corton Restaurant in NYC. First of...               Syrah   \n",
       "2       Nose is very tart, with a layer of sweet fruit...          Pinot Noir   \n",
       "3       Beautiful golden color. Discrete perfumed nose...          Chardonnay   \n",
       "4       Please take the time to decant: you will not b...          Pinot Noir   \n",
       "...                                                   ...                 ...   \n",
       "130492  Brought this out at a dinner and it was quite ...           Zinfandel   \n",
       "130493  Nothing bad to say except that this is so ordi...          Pinot Noir   \n",
       "130494  Good wine. Dark fruit and buttery oak aromas o...  Cabernet Sauvignon   \n",
       "130495  AP #8. Medium-deep gold. Mature nose of petrol...            Riesling   \n",
       "130496  A great nose of lemon, green apple and mineral...          Chardonnay   \n",
       "\n",
       "                                                   tokens  \n",
       "0       [rich, smoky, dark, cherry, nose, very, intens...  \n",
       "1       [had, this, at, corton, restaurant, in, nyc, f...  \n",
       "2       [nose, is, very, tart, with, a, layer, of, swe...  \n",
       "3       [beautiful, golden, color, discrete, perfumed,...  \n",
       "4       [please, take, the, time, to, decant, you, wil...  \n",
       "...                                                   ...  \n",
       "130492  [brought, this, out, at, a, dinner, and, it, w...  \n",
       "130493  [nothing, bad, to, say, except, that, this, is...  \n",
       "130494  [good, wine, dark, fruit, and, buttery, oak, a...  \n",
       "130495  [ap, medium, deep, gold, mature, nose, of, pet...  \n",
       "130496  [a, great, nose, of, lemon, green, apple, and,...  \n",
       "\n",
       "[130497 rows x 3 columns]"
      ]
     },
     "execution_count": 60,
     "metadata": {},
     "output_type": "execute_result"
    }
   ],
   "source": [
    "train"
   ]
  },
  {
   "cell_type": "code",
   "execution_count": 13,
   "metadata": {},
   "outputs": [
    {
     "data": {
      "text/html": [
       "<div>\n",
       "<style scoped>\n",
       "    .dataframe tbody tr th:only-of-type {\n",
       "        vertical-align: middle;\n",
       "    }\n",
       "\n",
       "    .dataframe tbody tr th {\n",
       "        vertical-align: top;\n",
       "    }\n",
       "\n",
       "    .dataframe thead th {\n",
       "        text-align: right;\n",
       "    }\n",
       "</style>\n",
       "<table border=\"1\" class=\"dataframe\">\n",
       "  <thead>\n",
       "    <tr style=\"text-align: right;\">\n",
       "      <th></th>\n",
       "      <th>review_text</th>\n",
       "      <th>wine_variant</th>\n",
       "    </tr>\n",
       "  </thead>\n",
       "  <tbody>\n",
       "    <tr>\n",
       "      <th>0</th>\n",
       "      <td>hmmm. i have mixed emotions about this wine. o...</td>\n",
       "      <td>Chardonnay</td>\n",
       "    </tr>\n",
       "    <tr>\n",
       "      <th>1</th>\n",
       "      <td>You can find several dozen SB Syrahs that have...</td>\n",
       "      <td>Syrah</td>\n",
       "    </tr>\n",
       "    <tr>\n",
       "      <th>2</th>\n",
       "      <td>It has a nice even red finish and remote cherr...</td>\n",
       "      <td>Pinot Noir</td>\n",
       "    </tr>\n",
       "    <tr>\n",
       "      <th>3</th>\n",
       "      <td>WIML91  Tasted October 6, 2009.  Opened and se...</td>\n",
       "      <td>Pinot Noir</td>\n",
       "    </tr>\n",
       "    <tr>\n",
       "      <th>4</th>\n",
       "      <td>My last bottle with the super bowl. Sipped wit...</td>\n",
       "      <td>Zinfandel</td>\n",
       "    </tr>\n",
       "    <tr>\n",
       "      <th>...</th>\n",
       "      <td>...</td>\n",
       "      <td>...</td>\n",
       "    </tr>\n",
       "    <tr>\n",
       "      <th>32620</th>\n",
       "      <td>Had with baked potato, steak, broccoli, really...</td>\n",
       "      <td>Merlot</td>\n",
       "    </tr>\n",
       "    <tr>\n",
       "      <th>32621</th>\n",
       "      <td>Vinturied one hour before first pour, consumed...</td>\n",
       "      <td>Pinot Noir</td>\n",
       "    </tr>\n",
       "    <tr>\n",
       "      <th>32622</th>\n",
       "      <td>Good but not great.Quite similar to some of th...</td>\n",
       "      <td>Pinot Noir</td>\n",
       "    </tr>\n",
       "    <tr>\n",
       "      <th>32623</th>\n",
       "      <td>very light in color, fine mature syrah express...</td>\n",
       "      <td>Syrah</td>\n",
       "    </tr>\n",
       "    <tr>\n",
       "      <th>32624</th>\n",
       "      <td>Fantastic! Outstanding nose of melted licorice...</td>\n",
       "      <td>Cabernet Sauvignon</td>\n",
       "    </tr>\n",
       "  </tbody>\n",
       "</table>\n",
       "<p>32625 rows × 2 columns</p>\n",
       "</div>"
      ],
      "text/plain": [
       "                                             review_text        wine_variant\n",
       "0      hmmm. i have mixed emotions about this wine. o...          Chardonnay\n",
       "1      You can find several dozen SB Syrahs that have...               Syrah\n",
       "2      It has a nice even red finish and remote cherr...          Pinot Noir\n",
       "3      WIML91  Tasted October 6, 2009.  Opened and se...          Pinot Noir\n",
       "4      My last bottle with the super bowl. Sipped wit...           Zinfandel\n",
       "...                                                  ...                 ...\n",
       "32620  Had with baked potato, steak, broccoli, really...              Merlot\n",
       "32621  Vinturied one hour before first pour, consumed...          Pinot Noir\n",
       "32622  Good but not great.Quite similar to some of th...          Pinot Noir\n",
       "32623  very light in color, fine mature syrah express...               Syrah\n",
       "32624  Fantastic! Outstanding nose of melted licorice...  Cabernet Sauvignon\n",
       "\n",
       "[32625 rows x 2 columns]"
      ]
     },
     "execution_count": 13,
     "metadata": {},
     "output_type": "execute_result"
    }
   ],
   "source": [
    "test"
   ]
  },
  {
   "cell_type": "code",
   "execution_count": 12,
   "metadata": {},
   "outputs": [],
   "source": [
    "train_copy = train.copy()\n",
    "test_copy = test.copy()"
   ]
  },
  {
   "cell_type": "code",
   "execution_count": 13,
   "metadata": {},
   "outputs": [],
   "source": [
    "m = train_copy['wine_variant'].isin(['Cabernet Sauvignon', 'Merlot'])\n",
    "train_copy['wine_variant'] = train_copy['wine_variant'].mask(m, 'Cabernet Sauvignon/Merlot') \n",
    "\n",
    "m1 = train_copy['wine_variant'].isin(['Syrah', 'Zinfandel'])\n",
    "train_copy['wine_variant'] = train_copy['wine_variant'].mask(m1, 'Syrah/Zinfandel') \n",
    "\n",
    "n = test_copy['wine_variant'].isin(['Cabernet Sauvignon', 'Merlot'])\n",
    "test_copy['wine_variant'] = test_copy['wine_variant'].mask(n, 'Cabernet Sauvignon/Merlot')  \n",
    "\n",
    "n1 = test_copy['wine_variant'].isin(['Syrah', 'Zinfandel'])\n",
    "test_copy['wine_variant'] = test_copy['wine_variant'].mask(n1, 'Syrah/Zinfandel')  "
   ]
  },
  {
   "cell_type": "code",
   "execution_count": 14,
   "metadata": {},
   "outputs": [
    {
     "data": {
      "text/plain": [
       "Pinot Noir                   38471\n",
       "Cabernet Sauvignon/Merlot    35756\n",
       "Syrah/Zinfandel              22031\n",
       "Chardonnay                   19443\n",
       "Riesling                      9683\n",
       "Sauvignon Blanc               5113\n",
       "Name: wine_variant, dtype: int64"
      ]
     },
     "execution_count": 14,
     "metadata": {},
     "output_type": "execute_result"
    }
   ],
   "source": [
    "train_copy.wine_variant.value_counts()"
   ]
  },
  {
   "cell_type": "code",
   "execution_count": 15,
   "metadata": {},
   "outputs": [
    {
     "data": {
      "text/plain": [
       "Pinot Noir                   9618\n",
       "Cabernet Sauvignon/Merlot    8939\n",
       "Syrah/Zinfandel              5508\n",
       "Chardonnay                   4861\n",
       "Riesling                     2421\n",
       "Sauvignon Blanc              1278\n",
       "Name: wine_variant, dtype: int64"
      ]
     },
     "execution_count": 15,
     "metadata": {},
     "output_type": "execute_result"
    }
   ],
   "source": [
    "test_copy.wine_variant.value_counts()"
   ]
  },
  {
   "cell_type": "markdown",
   "metadata": {},
   "source": [
    "#### Lets test the model on this new data and see if there is any improvement in performance"
   ]
  },
  {
   "cell_type": "code",
   "execution_count": 16,
   "metadata": {},
   "outputs": [],
   "source": [
    "sgd1 = cloudpickle.load(open('sgd.model','rb'))"
   ]
  },
  {
   "cell_type": "code",
   "execution_count": 17,
   "metadata": {},
   "outputs": [
    {
     "name": "stdout",
     "output_type": "stream",
     "text": [
      "                           precision    recall  f1-score   support\n",
      "\n",
      "Cabernet Sauvignon/Merlot       0.76      0.82      0.79      8939\n",
      "               Chardonnay       0.82      0.86      0.84      4861\n",
      "               Pinot Noir       0.81      0.84      0.82      9618\n",
      "                 Riesling       0.78      0.80      0.79      2421\n",
      "          Sauvignon Blanc       0.83      0.66      0.73      1278\n",
      "          Syrah/Zinfandel       0.78      0.62      0.69      5508\n",
      "\n",
      "                 accuracy                           0.79     32625\n",
      "                macro avg       0.80      0.77      0.78     32625\n",
      "             weighted avg       0.79      0.79      0.79     32625\n",
      "\n"
     ]
    }
   ],
   "source": [
    "sgd1.fit(train_copy[\"review_text\"], train_copy[\"wine_variant\"])\n",
    "predicted = sgd1.predict(test_copy[\"review_text\"])\n",
    "print(classification_report(test_copy[\"wine_variant\"], predicted))"
   ]
  },
  {
   "cell_type": "code",
   "execution_count": 18,
   "metadata": {},
   "outputs": [
    {
     "data": {
      "text/plain": [
       "<sklearn.metrics._plot.confusion_matrix.ConfusionMatrixDisplay at 0x7f9f58749d90>"
      ]
     },
     "execution_count": 18,
     "metadata": {},
     "output_type": "execute_result"
    },
    {
     "data": {
      "image/png": "[encoded data removed]",
      "text/plain": [
       "<Figure size 576x576 with 2 Axes>"
      ]
     },
     "metadata": {
      "needs_background": "light"
     },
     "output_type": "display_data"
    }
   ],
   "source": [
    "fig, ax = plt.subplots(figsize=(8, 8))\n",
    "plot_confusion_matrix(sgd1, test_copy[\"review_text\"], test_copy[\"wine_variant\"],xticks_rotation=-90, normalize='true',ax=ax)"
   ]
  },
  {
   "cell_type": "markdown",
   "metadata": {},
   "source": [
    "#### With the above labels it is clear to see that the performance increases by quite a significant margin, the f1 score goes up from 0.71 to 0.78, but this comes with the downside of having less certainty about the classification because you are bringing 2 distinct labels down to one composite label which could be either one of the original labels. For example if 3 labels are replaced by one label called say Cabernet/Merlot/Riesling, the F1 may increase but the point of classification is lost by generalizing the labels to that extent.\n",
    "#### By doing more label reduction the performance could be taken up to an F1 of 0.85, but in this specific scenario the better solution would probably be to do the Margin calculation based label reductions. "
   ]
  }
 ],
 "metadata": {
  "kernelspec": {
   "display_name": "Python 3",
   "language": "python",
   "name": "python3"
  },
  "language_info": {
   "codemirror_mode": {
    "name": "ipython",
    "version": 3
   },
   "file_extension": ".py",
   "mimetype": "text/x-python",
   "name": "python",
   "nbconvert_exporter": "python",
   "pygments_lexer": "ipython3",
   "version": "3.7.6"
  }
 },
 "nbformat": 4,
 "nbformat_minor": 5
}
